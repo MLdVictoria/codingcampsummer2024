{
  "cells": [
    {
      "cell_type": "markdown",
      "metadata": {
        "id": "view-in-github",
        "colab_type": "text"
      },
      "source": [
        "<a href=\"https://colab.research.google.com/github/MLdVictoria/codingcampsummer2024/blob/main/Copia_de_Copia_de_Los_4_muon_tracks_2024_moni.ipynb\" target=\"_parent\"><img src=\"https://colab.research.google.com/assets/colab-badge.svg\" alt=\"Open In Colab\"/></a>"
      ]
    },
    {
      "cell_type": "markdown",
      "id": "5c0048fb",
      "metadata": {
        "id": "5c0048fb"
      },
      "source": [
        "# Muon Tracks in CMS  \n",
        "\n",
        "Write code to expand the pseudocode below into an investigation of [muon track data](https://github.com/QuarkNet-HEP/coding-camp/tree/main/data) in the CMS detector using [Holmes' model-fitting technique](https://docs.google.com/document/d/1VP2fAFiVm1FqjqD4D-jRctjdIrMiSmBWAYw_cqBhxV0/edit?usp=sharing) and the [PPDAC](https://docs.google.com/document/d/1ei4PwZsl9aN9HnxFz7CxEtViHXxPwyd0OAogSLCrm8U/edit?usp=sharing) framework."
      ]
    },
    {
      "cell_type": "markdown",
      "id": "a439d697",
      "metadata": {
        "id": "a439d697"
      },
      "source": [
        "## Pseudocode"
      ]
    },
    {
      "cell_type": "code",
      "execution_count": null,
      "id": "4699faad",
      "metadata": {
        "id": "4699faad"
      },
      "outputs": [],
      "source": [
        "# import de libraries\n",
        "import pandas as pd\n",
        "import numpy as np\n",
        "import matplotlib as mpl\n",
        "import matplotlib.pyplot as plt\n"
      ]
    },
    {
      "cell_type": "code",
      "source": [
        "# read in data files\n",
        "muon1 = pd.read_csv(\"https://raw.githubusercontent.com/QuarkNet-HEP/coding-camp/main/data/muon_track_1.csv\",skiprows=2)\n",
        "muon2 = pd.read_csv(\"https://raw.githubusercontent.com/QuarkNet-HEP/coding-camp/main/data/muon_track_2.csv\",skiprows=2)\n",
        "muon3 = pd.read_csv(\"https://raw.githubusercontent.com/QuarkNet-HEP/coding-camp/main/data/muon_track_3.csv\",skiprows=2)\n",
        "muon4 = pd.read_csv(\"https://raw.githubusercontent.com/QuarkNet-HEP/coding-camp/main/data/muon_track_4.csv\",skiprows=2)\n",
        "\n",
        "muon1 = muon1.astype({'x':'float','y':'float'})\n",
        "muon2 = muon2.astype({'x':'float','y':'float'})\n",
        "muon3 = muon3.astype({'x':'float','y':'float'})\n",
        "muon4 = muon4.astype({'x':'float','y':'float'})\n",
        "\n",
        "muon1.head()\n",
        "muon2.head()\n",
        "muon3.head()\n",
        "muon4.head()"
      ],
      "metadata": {
        "id": "IqO5dTGG33nf",
        "colab": {
          "base_uri": "https://localhost:8080/",
          "height": 206
        },
        "outputId": "80b8b14f-f9fa-41b2-940f-37ef8d4f46e8"
      },
      "id": "IqO5dTGG33nf",
      "execution_count": null,
      "outputs": [
        {
          "output_type": "execute_result",
          "data": {
            "text/plain": [
              "          x         y\n",
              "0  0.015988 -0.047147\n",
              "1  0.106761 -0.357359\n",
              "2  0.183340 -0.668124\n",
              "3  0.246074 -0.979292\n",
              "4  0.295255 -1.290740"
            ],
            "text/html": [
              "\n",
              "  <div id=\"df-cf892692-a6d8-46aa-92c5-459897abdf4b\" class=\"colab-df-container\">\n",
              "    <div>\n",
              "<style scoped>\n",
              "    .dataframe tbody tr th:only-of-type {\n",
              "        vertical-align: middle;\n",
              "    }\n",
              "\n",
              "    .dataframe tbody tr th {\n",
              "        vertical-align: top;\n",
              "    }\n",
              "\n",
              "    .dataframe thead th {\n",
              "        text-align: right;\n",
              "    }\n",
              "</style>\n",
              "<table border=\"1\" class=\"dataframe\">\n",
              "  <thead>\n",
              "    <tr style=\"text-align: right;\">\n",
              "      <th></th>\n",
              "      <th>x</th>\n",
              "      <th>y</th>\n",
              "    </tr>\n",
              "  </thead>\n",
              "  <tbody>\n",
              "    <tr>\n",
              "      <th>0</th>\n",
              "      <td>0.015988</td>\n",
              "      <td>-0.047147</td>\n",
              "    </tr>\n",
              "    <tr>\n",
              "      <th>1</th>\n",
              "      <td>0.106761</td>\n",
              "      <td>-0.357359</td>\n",
              "    </tr>\n",
              "    <tr>\n",
              "      <th>2</th>\n",
              "      <td>0.183340</td>\n",
              "      <td>-0.668124</td>\n",
              "    </tr>\n",
              "    <tr>\n",
              "      <th>3</th>\n",
              "      <td>0.246074</td>\n",
              "      <td>-0.979292</td>\n",
              "    </tr>\n",
              "    <tr>\n",
              "      <th>4</th>\n",
              "      <td>0.295255</td>\n",
              "      <td>-1.290740</td>\n",
              "    </tr>\n",
              "  </tbody>\n",
              "</table>\n",
              "</div>\n",
              "    <div class=\"colab-df-buttons\">\n",
              "\n",
              "  <div class=\"colab-df-container\">\n",
              "    <button class=\"colab-df-convert\" onclick=\"convertToInteractive('df-cf892692-a6d8-46aa-92c5-459897abdf4b')\"\n",
              "            title=\"Convert this dataframe to an interactive table.\"\n",
              "            style=\"display:none;\">\n",
              "\n",
              "  <svg xmlns=\"http://www.w3.org/2000/svg\" height=\"24px\" viewBox=\"0 -960 960 960\">\n",
              "    <path d=\"M120-120v-720h720v720H120Zm60-500h600v-160H180v160Zm220 220h160v-160H400v160Zm0 220h160v-160H400v160ZM180-400h160v-160H180v160Zm440 0h160v-160H620v160ZM180-180h160v-160H180v160Zm440 0h160v-160H620v160Z\"/>\n",
              "  </svg>\n",
              "    </button>\n",
              "\n",
              "  <style>\n",
              "    .colab-df-container {\n",
              "      display:flex;\n",
              "      gap: 12px;\n",
              "    }\n",
              "\n",
              "    .colab-df-convert {\n",
              "      background-color: #E8F0FE;\n",
              "      border: none;\n",
              "      border-radius: 50%;\n",
              "      cursor: pointer;\n",
              "      display: none;\n",
              "      fill: #1967D2;\n",
              "      height: 32px;\n",
              "      padding: 0 0 0 0;\n",
              "      width: 32px;\n",
              "    }\n",
              "\n",
              "    .colab-df-convert:hover {\n",
              "      background-color: #E2EBFA;\n",
              "      box-shadow: 0px 1px 2px rgba(60, 64, 67, 0.3), 0px 1px 3px 1px rgba(60, 64, 67, 0.15);\n",
              "      fill: #174EA6;\n",
              "    }\n",
              "\n",
              "    .colab-df-buttons div {\n",
              "      margin-bottom: 4px;\n",
              "    }\n",
              "\n",
              "    [theme=dark] .colab-df-convert {\n",
              "      background-color: #3B4455;\n",
              "      fill: #D2E3FC;\n",
              "    }\n",
              "\n",
              "    [theme=dark] .colab-df-convert:hover {\n",
              "      background-color: #434B5C;\n",
              "      box-shadow: 0px 1px 3px 1px rgba(0, 0, 0, 0.15);\n",
              "      filter: drop-shadow(0px 1px 2px rgba(0, 0, 0, 0.3));\n",
              "      fill: #FFFFFF;\n",
              "    }\n",
              "  </style>\n",
              "\n",
              "    <script>\n",
              "      const buttonEl =\n",
              "        document.querySelector('#df-cf892692-a6d8-46aa-92c5-459897abdf4b button.colab-df-convert');\n",
              "      buttonEl.style.display =\n",
              "        google.colab.kernel.accessAllowed ? 'block' : 'none';\n",
              "\n",
              "      async function convertToInteractive(key) {\n",
              "        const element = document.querySelector('#df-cf892692-a6d8-46aa-92c5-459897abdf4b');\n",
              "        const dataTable =\n",
              "          await google.colab.kernel.invokeFunction('convertToInteractive',\n",
              "                                                    [key], {});\n",
              "        if (!dataTable) return;\n",
              "\n",
              "        const docLinkHtml = 'Like what you see? Visit the ' +\n",
              "          '<a target=\"_blank\" href=https://colab.research.google.com/notebooks/data_table.ipynb>data table notebook</a>'\n",
              "          + ' to learn more about interactive tables.';\n",
              "        element.innerHTML = '';\n",
              "        dataTable['output_type'] = 'display_data';\n",
              "        await google.colab.output.renderOutput(dataTable, element);\n",
              "        const docLink = document.createElement('div');\n",
              "        docLink.innerHTML = docLinkHtml;\n",
              "        element.appendChild(docLink);\n",
              "      }\n",
              "    </script>\n",
              "  </div>\n",
              "\n",
              "\n",
              "<div id=\"df-e9ff7b35-305e-411a-9891-f242b15a1920\">\n",
              "  <button class=\"colab-df-quickchart\" onclick=\"quickchart('df-e9ff7b35-305e-411a-9891-f242b15a1920')\"\n",
              "            title=\"Suggest charts\"\n",
              "            style=\"display:none;\">\n",
              "\n",
              "<svg xmlns=\"http://www.w3.org/2000/svg\" height=\"24px\"viewBox=\"0 0 24 24\"\n",
              "     width=\"24px\">\n",
              "    <g>\n",
              "        <path d=\"M19 3H5c-1.1 0-2 .9-2 2v14c0 1.1.9 2 2 2h14c1.1 0 2-.9 2-2V5c0-1.1-.9-2-2-2zM9 17H7v-7h2v7zm4 0h-2V7h2v10zm4 0h-2v-4h2v4z\"/>\n",
              "    </g>\n",
              "</svg>\n",
              "  </button>\n",
              "\n",
              "<style>\n",
              "  .colab-df-quickchart {\n",
              "      --bg-color: #E8F0FE;\n",
              "      --fill-color: #1967D2;\n",
              "      --hover-bg-color: #E2EBFA;\n",
              "      --hover-fill-color: #174EA6;\n",
              "      --disabled-fill-color: #AAA;\n",
              "      --disabled-bg-color: #DDD;\n",
              "  }\n",
              "\n",
              "  [theme=dark] .colab-df-quickchart {\n",
              "      --bg-color: #3B4455;\n",
              "      --fill-color: #D2E3FC;\n",
              "      --hover-bg-color: #434B5C;\n",
              "      --hover-fill-color: #FFFFFF;\n",
              "      --disabled-bg-color: #3B4455;\n",
              "      --disabled-fill-color: #666;\n",
              "  }\n",
              "\n",
              "  .colab-df-quickchart {\n",
              "    background-color: var(--bg-color);\n",
              "    border: none;\n",
              "    border-radius: 50%;\n",
              "    cursor: pointer;\n",
              "    display: none;\n",
              "    fill: var(--fill-color);\n",
              "    height: 32px;\n",
              "    padding: 0;\n",
              "    width: 32px;\n",
              "  }\n",
              "\n",
              "  .colab-df-quickchart:hover {\n",
              "    background-color: var(--hover-bg-color);\n",
              "    box-shadow: 0 1px 2px rgba(60, 64, 67, 0.3), 0 1px 3px 1px rgba(60, 64, 67, 0.15);\n",
              "    fill: var(--button-hover-fill-color);\n",
              "  }\n",
              "\n",
              "  .colab-df-quickchart-complete:disabled,\n",
              "  .colab-df-quickchart-complete:disabled:hover {\n",
              "    background-color: var(--disabled-bg-color);\n",
              "    fill: var(--disabled-fill-color);\n",
              "    box-shadow: none;\n",
              "  }\n",
              "\n",
              "  .colab-df-spinner {\n",
              "    border: 2px solid var(--fill-color);\n",
              "    border-color: transparent;\n",
              "    border-bottom-color: var(--fill-color);\n",
              "    animation:\n",
              "      spin 1s steps(1) infinite;\n",
              "  }\n",
              "\n",
              "  @keyframes spin {\n",
              "    0% {\n",
              "      border-color: transparent;\n",
              "      border-bottom-color: var(--fill-color);\n",
              "      border-left-color: var(--fill-color);\n",
              "    }\n",
              "    20% {\n",
              "      border-color: transparent;\n",
              "      border-left-color: var(--fill-color);\n",
              "      border-top-color: var(--fill-color);\n",
              "    }\n",
              "    30% {\n",
              "      border-color: transparent;\n",
              "      border-left-color: var(--fill-color);\n",
              "      border-top-color: var(--fill-color);\n",
              "      border-right-color: var(--fill-color);\n",
              "    }\n",
              "    40% {\n",
              "      border-color: transparent;\n",
              "      border-right-color: var(--fill-color);\n",
              "      border-top-color: var(--fill-color);\n",
              "    }\n",
              "    60% {\n",
              "      border-color: transparent;\n",
              "      border-right-color: var(--fill-color);\n",
              "    }\n",
              "    80% {\n",
              "      border-color: transparent;\n",
              "      border-right-color: var(--fill-color);\n",
              "      border-bottom-color: var(--fill-color);\n",
              "    }\n",
              "    90% {\n",
              "      border-color: transparent;\n",
              "      border-bottom-color: var(--fill-color);\n",
              "    }\n",
              "  }\n",
              "</style>\n",
              "\n",
              "  <script>\n",
              "    async function quickchart(key) {\n",
              "      const quickchartButtonEl =\n",
              "        document.querySelector('#' + key + ' button');\n",
              "      quickchartButtonEl.disabled = true;  // To prevent multiple clicks.\n",
              "      quickchartButtonEl.classList.add('colab-df-spinner');\n",
              "      try {\n",
              "        const charts = await google.colab.kernel.invokeFunction(\n",
              "            'suggestCharts', [key], {});\n",
              "      } catch (error) {\n",
              "        console.error('Error during call to suggestCharts:', error);\n",
              "      }\n",
              "      quickchartButtonEl.classList.remove('colab-df-spinner');\n",
              "      quickchartButtonEl.classList.add('colab-df-quickchart-complete');\n",
              "    }\n",
              "    (() => {\n",
              "      let quickchartButtonEl =\n",
              "        document.querySelector('#df-e9ff7b35-305e-411a-9891-f242b15a1920 button');\n",
              "      quickchartButtonEl.style.display =\n",
              "        google.colab.kernel.accessAllowed ? 'block' : 'none';\n",
              "    })();\n",
              "  </script>\n",
              "</div>\n",
              "\n",
              "    </div>\n",
              "  </div>\n"
            ],
            "application/vnd.google.colaboratory.intrinsic+json": {
              "type": "dataframe",
              "variable_name": "muon4",
              "summary": "{\n  \"name\": \"muon4\",\n  \"rows\": 21,\n  \"fields\": [\n    {\n      \"column\": \"x\",\n      \"properties\": {\n        \"dtype\": \"number\",\n        \"std\": 0.1610832745833965,\n        \"min\": -0.116869,\n        \"max\": 0.36205,\n        \"num_unique_values\": 21,\n        \"samples\": [\n          0.0159878,\n          -0.0287438,\n          0.0510788\n        ],\n        \"semantic_type\": \"\",\n        \"description\": \"\"\n      }\n    },\n    {\n      \"column\": \"y\",\n      \"properties\": {\n        \"dtype\": \"number\",\n        \"std\": 1.9482922840624186,\n        \"min\": -6.32739,\n        \"max\": -0.047147,\n        \"num_unique_values\": 21,\n        \"samples\": [\n          -0.047147,\n          -5.37529,\n          -4.7418\n        ],\n        \"semantic_type\": \"\",\n        \"description\": \"\"\n      }\n    }\n  ]\n}"
            }
          },
          "metadata": {},
          "execution_count": 2
        }
      ]
    },
    {
      "cell_type": "code",
      "source": [
        "#muon1\n",
        "x1=muon1['x']\n",
        "y1=muon1['y']\n",
        "\n",
        "#muon2\n",
        "x2=muon2['x']\n",
        "y2=muon2['y']\n",
        "\n",
        "#muon3\n",
        "x3=muon3['x']\n",
        "y3=muon3['y']\n",
        "\n",
        "#muon4\n",
        "x4=muon4['x']\n",
        "y4=muon4['y']\n",
        "\n",
        "plt.scatter(x1,y1)\n",
        "plt.scatter(x2,y2)\n",
        "plt.scatter(x3,y3)\n",
        "plt.scatter(x4,y4)\n",
        "\n",
        "plt.show()"
      ],
      "metadata": {
        "colab": {
          "base_uri": "https://localhost:8080/",
          "height": 430
        },
        "id": "RsUQFXB3H_ae",
        "outputId": "335d6a82-b897-4867-eb83-89720a89ff8a"
      },
      "id": "RsUQFXB3H_ae",
      "execution_count": null,
      "outputs": [
        {
          "output_type": "display_data",
          "data": {
            "text/plain": [
              "<Figure size 640x480 with 1 Axes>"
            ],
            "image/png": "[encoded data removed]"
          },
          "metadata": {}
        }
      ]
    },
    {
      "cell_type": "code",
      "source": [],
      "metadata": {
        "id": "Go5fj_-zIN9q"
      },
      "id": "Go5fj_-zIN9q",
      "execution_count": null,
      "outputs": []
    },
    {
      "cell_type": "code",
      "source": [
        "# fit a linear model to a set of muon tracks in CMS\n",
        "\n",
        "a1,b1=np.polyfit(x1,y1,1)\n",
        "a2,b2=np.polyfit(x2,y2,1)\n",
        "a3,b3=np.polyfit(x3,y3,1)\n",
        "a4,b4=np.polyfit(x4,y4,1)\n",
        "plt.scatter(x1,y1)\n",
        "plt.scatter(x2,y2)\n",
        "plt.scatter(x3,y3)\n",
        "plt.scatter(x4,y4)\n",
        "plt.plot(x1, a1*x1+b1, color = 'black')\n",
        "plt.plot(x2, a2*x2+b2, color = 'black')\n",
        "plt.plot(x3, a3*x3+b3,color = 'black')\n",
        "plt.plot(x4, a4*x4+b4, color = 'black')\n",
        "\n",
        "#plt.axline(xy1=(0,b), slope=a, label=f'y={a:.4f}x {b:+.4f}', color='r')\n",
        "plt.legend()\n",
        "plt.show()\n"
      ],
      "metadata": {
        "colab": {
          "base_uri": "https://localhost:8080/",
          "height": 469
        },
        "id": "UmopLcHIl3w3",
        "outputId": "efea9033-f395-4d7e-8705-3169c7031d22"
      },
      "id": "UmopLcHIl3w3",
      "execution_count": null,
      "outputs": [
        {
          "output_type": "stream",
          "name": "stderr",
          "text": [
            "WARNING:matplotlib.legend:No artists with labels found to put in legend.  Note that artists whose label start with an underscore are ignored when legend() is called with no argument.\n"
          ]
        },
        {
          "output_type": "display_data",
          "data": {
            "text/plain": [
              "<Figure size 640x480 with 1 Axes>"
            ],
            "image/png": "[encoded data removed]"
          },
          "metadata": {}
        }
      ]
    },
    {
      "cell_type": "code",
      "execution_count": null,
      "id": "435a440e",
      "metadata": {
        "id": "435a440e"
      },
      "outputs": [],
      "source": [
        "\n",
        "predicty=a*x+b #calculate predicted y value from 1srl\n",
        "resid=y-predicty #calc residual\n",
        "plt.scatter(x,resid) # grafica el residual\n",
        "plt.axhline(0)\n"
      ]
    },
    {
      "cell_type": "code",
      "execution_count": 1,
      "id": "8d9696ee",
      "metadata": {
        "id": "8d9696ee",
        "colab": {
          "base_uri": "https://localhost:8080/",
          "height": 224
        },
        "outputId": "04572f0f-6e4b-43a2-a9e9-395517b6f555"
      },
      "outputs": [
        {
          "output_type": "error",
          "ename": "NameError",
          "evalue": "name 'plt' is not defined",
          "traceback": [
            "\u001b[0;31m---------------------------------------------------------------------------\u001b[0m",
            "\u001b[0;31mNameError\u001b[0m                                 Traceback (most recent call last)",
            "\u001b[0;32m<ipython-input-1-9e609dfff31f>\u001b[0m in \u001b[0;36m<cell line: 1>\u001b[0;34m()\u001b[0m\n\u001b[0;32m----> 1\u001b[0;31m \u001b[0mfig\u001b[0m\u001b[0;34m,\u001b[0m \u001b[0max\u001b[0m \u001b[0;34m=\u001b[0m \u001b[0mplt\u001b[0m\u001b[0;34m.\u001b[0m\u001b[0msubplots\u001b[0m\u001b[0;34m(\u001b[0m\u001b[0;36m2\u001b[0m\u001b[0;34m,\u001b[0m \u001b[0;36m2\u001b[0m\u001b[0;34m,\u001b[0m \u001b[0mfigsize\u001b[0m\u001b[0;34m=\u001b[0m\u001b[0;34m(\u001b[0m\u001b[0;36m10\u001b[0m\u001b[0;34m,\u001b[0m\u001b[0;36m5\u001b[0m\u001b[0;34m)\u001b[0m\u001b[0;34m)\u001b[0m\u001b[0;34m\u001b[0m\u001b[0;34m\u001b[0m\u001b[0m\n\u001b[0m\u001b[1;32m      2\u001b[0m \u001b[0;34m\u001b[0m\u001b[0m\n\u001b[1;32m      3\u001b[0m \u001b[0mx\u001b[0m\u001b[0;34m=\u001b[0m\u001b[0mdata\u001b[0m\u001b[0;34m[\u001b[0m\u001b[0;34m'x'\u001b[0m\u001b[0;34m]\u001b[0m\u001b[0;34m\u001b[0m\u001b[0;34m\u001b[0m\u001b[0m\n\u001b[1;32m      4\u001b[0m \u001b[0my\u001b[0m\u001b[0;34m=\u001b[0m\u001b[0mdata\u001b[0m\u001b[0;34m[\u001b[0m\u001b[0;34m'y'\u001b[0m\u001b[0;34m]\u001b[0m\u001b[0;34m\u001b[0m\u001b[0;34m\u001b[0m\u001b[0m\n\u001b[1;32m      5\u001b[0m \u001b[0ma1\u001b[0m\u001b[0;34m,\u001b[0m\u001b[0mb1\u001b[0m\u001b[0;34m=\u001b[0m\u001b[0mnp\u001b[0m\u001b[0;34m.\u001b[0m\u001b[0mpolyfit\u001b[0m\u001b[0;34m(\u001b[0m\u001b[0mx1\u001b[0m\u001b[0;34m,\u001b[0m\u001b[0my1\u001b[0m\u001b[0;34m,\u001b[0m\u001b[0;36m1\u001b[0m\u001b[0;34m)\u001b[0m\u001b[0;34m\u001b[0m\u001b[0;34m\u001b[0m\u001b[0m\n",
            "\u001b[0;31mNameError\u001b[0m: name 'plt' is not defined"
          ]
        }
      ],
      "source": [
        "\n",
        "fig, ax = plt.subplots(2, 2, figsize=(10,5))\n",
        "\n",
        "x=data['x']\n",
        "y=data['y']\n",
        "a1,b1=np.polyfit(x1,y1,1)\n",
        "ax[0,0].scatter(x1,y1)\n",
        "ax[0,0].plot(x, a*x+b)\n",
        "ax[0,0].scatter(x,y)\n",
        "\n",
        "\n",
        "ax[0].set_title(\"XY location of Muon Data\")  #anade el titulo\n",
        "ax[0].set_xlabel('x location')\n",
        "ax[0].set_ylabel('y location')\n",
        "ax[0].axline(xy1=(0,b), slope=a, label=f'y={a:.4f}x {b:+.4f}', color='b')\n",
        "ax[0].legend\n",
        "\n",
        "\n",
        "predicty=a*x+b\n",
        "resid=y-predicty\n",
        "ax[0,1].scatter(x,resid)\n",
        "ax[1,].axhline(0, color='green',linestyle='--')#put a line in at 0 ( no residual )\n",
        "ax[1].set_title(\"Residual Plot\")  #anade el titulo\n",
        "ax[1].set_xlabel('x location')\n",
        "ax[1].set_ylabel('Reidual')\n",
        "ax[1].legend\n",
        "\n",
        "predicty=a*x+b\n",
        "resid=y-predicty\n",
        "ax[0,1].scatter(x,resid)\n",
        "ax[0,1].axhline(0, color='green',linestyle='--')#put a line in at 0 ( no residual )\n",
        "ax[0,1].set_title(\"Residual Plot\")  #anade el titulo\n",
        "ax[0,1].set_xlabel('x location')\n",
        "ax[0,1].set_ylabel('Reidual')\n",
        "ax[0,1].legend\n",
        "\n",
        "predicty=a*x+b\n",
        "resid=y-predicty\n",
        "ax[1,0].scatter(x,resid)\n",
        "ax[1,0].axhline(0, color='green',linestyle='--')#put a line in at 0 ( no residual )\n",
        "ax[1,0].set_title(\"Residual Plot\")  #anade el titulo\n",
        "ax[1,0].set_xlabel('x location')\n",
        "ax[1,0].set_ylabel('Reidual')\n",
        "ax[1,0].legend\n",
        "\n",
        "plt.show() #mostrar la grafica"
      ]
    },
    {
      "cell_type": "code",
      "source": [
        "a, b, c = np.polyfit(x, y, deg=2)\n",
        "print(a,b,c)"
      ],
      "metadata": {
        "id": "g_psWOOlgRm4"
      },
      "id": "g_psWOOlgRm4",
      "execution_count": null,
      "outputs": []
    },
    {
      "cell_type": "code",
      "source": [
        "m=a*x**2+b*x+c\n",
        "res2= y- m  #calculate residual values for quadratic fit\n",
        "fig, ax = plt.subplots(1, 2, figsize=(10,5))\n",
        "\n",
        "x=data['x']\n",
        "y=data['y']\n",
        "a,b=np.polyfit(x,y,1)\n",
        "ax[0].scatter(x,y)\n",
        "ax[0].plot(x, a*x+b)\n",
        "ax[0].scatter(x,y)\n",
        "\n",
        "\n",
        "ax[0].set_title(\"XY location of Muon Data\")  #anade el titulo\n",
        "ax[0].set_xlabel('x location')\n",
        "ax[0].set_ylabel('y location')\n",
        "ax[0].axline(xy1=(0,b), slope=a, label=f'y={a:.4f}x {b:+.4f}', color='b')\n",
        "ax[0].legend\n",
        "\n",
        "\n",
        "predicty=a*x+b\n",
        "resid=y-predicty\n",
        "ax[1].scatter(x,res2)\n",
        "ax[1].axhline(0, color='green',linestyle='--')#put a line in at 0 ( no residual )\n",
        "ax[1].set_title(\"Residual Plot\")  #anade el titulo\n",
        "ax[1].set_xlabel('x location')\n",
        "ax[1].set_ylabel('Reidual')\n",
        "ax[1].legend\n",
        "\n",
        "\n",
        "plt.show() #mostrar la grafica"
      ],
      "metadata": {
        "id": "NtLi5Kj_hcXg"
      },
      "id": "NtLi5Kj_hcXg",
      "execution_count": null,
      "outputs": []
    },
    {
      "cell_type": "code",
      "source": [
        "# compare the two models using chi-sq or residual sum of squares (RSS)\n",
        "n,_=data.shape\n",
        "std=data['y'].std()\n",
        "stu=std/np.sqrt(n)\n",
        "f=resid**2/stu**2\n",
        "chi=sum(f)/n\n",
        "\n",
        "print(chi)\n"
      ],
      "metadata": {
        "id": "tgrVE_pwjBE5"
      },
      "id": "tgrVE_pwjBE5",
      "execution_count": null,
      "outputs": []
    },
    {
      "cell_type": "code",
      "execution_count": null,
      "id": "44a46944",
      "metadata": {
        "id": "44a46944"
      },
      "outputs": [],
      "source": [
        "# perform analysis in both a spreadsheet and a Jupyter notebook"
      ]
    },
    {
      "cell_type": "code",
      "execution_count": null,
      "id": "c2f8c195",
      "metadata": {
        "id": "c2f8c195"
      },
      "outputs": [],
      "source": [
        "# present using PPDAC framework"
      ]
    }
  ],
  "metadata": {
    "kernelspec": {
      "display_name": "Python 3 (ipykernel)",
      "language": "python",
      "name": "python3"
    },
    "language_info": {
      "codemirror_mode": {
        "name": "ipython",
        "version": 3
      },
      "file_extension": ".py",
      "mimetype": "text/x-python",
      "name": "python",
      "nbconvert_exporter": "python",
      "pygments_lexer": "ipython3",
      "version": "3.9.7"
    },
    "colab": {
      "provenance": [],
      "include_colab_link": true
    }
  },
  "nbformat": 4,
  "nbformat_minor": 5
}