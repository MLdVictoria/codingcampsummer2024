{
  "cells": [
    {
      "cell_type": "markdown",
      "metadata": {
        "id": "view-in-github",
        "colab_type": "text"
      },
      "source": [
        "<a href=\"https://colab.research.google.com/github/MLdVictoria/codingcampsummer2024/blob/main/Python_Programming_Introduction_Physics_Arithmetic.ipynb\" target=\"_parent\"><img src=\"https://colab.research.google.com/assets/colab-badge.svg\" alt=\"Open In Colab\"/></a>"
      ]
    },
    {
      "cell_type": "markdown",
      "metadata": {
        "id": "gFcsa6oKKgGt"
      },
      "source": [
        "# Welcome to <font color=\"#87CEEB\"> **Python** </font> <font color=\"#FFBF00\"> **Programming** </font> Introduction!!!\n",
        "\n",
        "<center> <img src=\"https://images.pexels.com/photos/943096/pexels-photo-943096.jpeg?auto=compress&cs=tinysrgb&w=1260&h=750&dpr=2\" width=\"500\"/> </center>\n",
        "\n",
        "In this activity you will learn to:  \n",
        "- run and edit Python code\n",
        "- read comments in Python\n",
        "- run arithmetic exercises\n",
        "\n",
        "<hr/>\n",
        "\n",
        "<font color=\"#C70039\"> **IMPORTANT!!!** </font>\n",
        "\n",
        "Please follow the steps below to create a **COPY** of this document.\n",
        "\n",
        "Go to **File > Save a Copy in Drive** so you'll have your own version to work on. That requires a Google login.    \n",
        "\n",
        "<hr/>\n",
        "  \n",
        "There are two ways to run the code below:\n",
        "- press SHIFT and ENTER at the same time\n",
        "- click on the play button (&#9658;) to the left of the code  \n",
        "\n",
        "Click \"run anyway\" on the popup window. It happens the first time you run this code telling you it loads from GitHub (it's totally safe, that's why we use it).\n",
        "\n",
        "Run each block of code to see what it does. Look for hidden messages, too. They're called **comments** and they start with #. Python doesn't read lines that start with #.\n",
        "\n",
        "<hr/>\n",
        "\n",
        "Let's try the following example:\n",
        "\n",
        "**One plus two equals 3**"
      ]
    },
    {
      "cell_type": "code",
      "execution_count": null,
      "metadata": {
        "id": "UTkmNnoadCOR"
      },
      "outputs": [],
      "source": [
        "# EXAMPLE 1   SUM   (run this block of code)\n",
        "1+2"
      ]
    },
    {
      "cell_type": "markdown",
      "source": [
        "**Practice #1**:\n",
        "\n",
        "3 plus 10 equals 13   \n",
        "\n",
        "To add a code cell use **Ctrl+M B** or click on **+ Code**"
      ],
      "metadata": {
        "id": "c5P9iRfW-F-o"
      }
    },
    {
      "cell_type": "code",
      "execution_count": null,
      "metadata": {
        "id": "Zra5XaIuFxXx"
      },
      "outputs": [],
      "source": [
        "# EXAMPLE 2   SUBSTRACT   (run this block of code)\n",
        "10-4"
      ]
    },
    {
      "cell_type": "markdown",
      "source": [
        "**Practice #2**:    \n",
        "20 minus 19 equals 1\n",
        "\n",
        "To add a code cell use **Ctrl+M B** or click on **+ Code**"
      ],
      "metadata": {
        "id": "ddhR-A4-F9Rt"
      }
    },
    {
      "cell_type": "code",
      "execution_count": null,
      "metadata": {
        "id": "a08YbU6KF5jS"
      },
      "outputs": [],
      "source": [
        "#EXAMPLE 3    MULTIPLICATION    (run this block of code)\n",
        "\n",
        "2*30"
      ]
    },
    {
      "cell_type": "markdown",
      "metadata": {
        "id": "akBt4UjuF_Cd"
      },
      "source": [
        "**Practice #3**:\n",
        "\n",
        "50 times 14 equals 700\n",
        "To add a code cell use **Ctrl+M B** or click on **+ Code**\n"
      ]
    },
    {
      "cell_type": "code",
      "source": [
        "#EXAMPLE 4    DIVISION    (run this block of code)\n",
        "50/2\n"
      ],
      "metadata": {
        "id": "nC9-J0fXLGk6"
      },
      "execution_count": null,
      "outputs": []
    },
    {
      "cell_type": "markdown",
      "source": [
        "**Practice #4**\n",
        "\n",
        "1000 divided by 10 equals 100\n",
        "\n",
        "To add a code cell use **Ctrl+M B** or click on **+ Code**"
      ],
      "metadata": {
        "id": "sY0OFz-xLZxl"
      }
    },
    {
      "cell_type": "code",
      "source": [
        "#EXAMPLE 5    (run this block of code)\n",
        "((8*4)+(7/2)-1)/2"
      ],
      "metadata": {
        "colab": {
          "base_uri": "https://localhost:8080/"
        },
        "id": "N_VjxklkSSro",
        "outputId": "cd1a100d-e15d-4488-d8cb-93d499525021"
      },
      "execution_count": null,
      "outputs": [
        {
          "output_type": "execute_result",
          "data": {
            "text/plain": [
              "17.25"
            ]
          },
          "metadata": {},
          "execution_count": 10
        }
      ]
    },
    {
      "cell_type": "markdown",
      "source": [
        "**Practice #5**\n",
        "\n",
        "7 divided by 3 multiplied by 10\n",
        "\n",
        "To add a code cell use **Ctrl+M B** or click on **+ Code**"
      ],
      "metadata": {
        "id": "c7FyEqn1THGv"
      }
    },
    {
      "cell_type": "code",
      "source": [
        "#EXAMPLE 6\n",
        "(10.43*10**(-11))*(28.84*10**(-12))"
      ],
      "metadata": {
        "colab": {
          "base_uri": "https://localhost:8080/"
        },
        "id": "LndBV2OfV-1T",
        "outputId": "b2cb4439-2581-4cd2-aaa6-b14a82e96fb9"
      },
      "execution_count": null,
      "outputs": [
        {
          "output_type": "execute_result",
          "data": {
            "text/plain": [
              "3.0080119999999997e-21"
            ]
          },
          "metadata": {},
          "execution_count": 15
        }
      ]
    },
    {
      "cell_type": "markdown",
      "source": [
        "**Practice #6**\n",
        "\n",
        "(4.5 x 10^-3) (1.2 X 10^-5)\n",
        "\n",
        "To add a code cell use **Ctrl+M B** or click on **+ Code**"
      ],
      "metadata": {
        "id": "1vCkAK4Hmal_"
      }
    },
    {
      "cell_type": "markdown",
      "metadata": {
        "id": "78-GOO5SGU6J"
      },
      "source": [
        "<hr/>\n",
        "\n",
        "#<font color=\"#C70039\"> **CHALLENGES** </font>\n",
        "\n",
        "**Challenge 1**:\n",
        "\n",
        "Create a code that indicates how many oranges are present. Note: you can use integer, fractions or decimal numbers.\n",
        "\n",
        "<img src=\"https://images.pexels.com/photos/161559/background-bitter-breakfast-bright-161559.jpeg?auto=compress&cs=tinysrgb&w=1260&h=750&dpr=2\" width=\"500\"/>\n",
        "\n"
      ]
    },
    {
      "cell_type": "markdown",
      "source": [
        "**Challenge 2**:\n",
        "\n",
        "Consider the following masses for different objects:\n",
        "\n",
        "5 kg\n",
        "\n",
        "8 kg\n",
        "\n",
        "3 kg\n",
        "\n",
        "Calculate the Total Mass"
      ],
      "metadata": {
        "id": "ekkTvh-mT7v2"
      }
    },
    {
      "cell_type": "markdown",
      "source": [
        "**Challenge 3**:\n",
        "\n",
        "Consider Newton's Second Law:\n",
        "\n",
        "F = ma    \n",
        "\n",
        "where, F is the net force applied to the object, m is the mass of the object and a is the acceleration of the object.\n",
        "\n",
        "Suppose that the net external force exerted on a lawn mower is 51 N parallel to the ground. The mass of the mower is 24 kg. What is its **acceleration**?"
      ],
      "metadata": {
        "id": "x1ULMr84nVKt"
      }
    },
    {
      "cell_type": "markdown",
      "source": [
        "<img src=\"https://images.pexels.com/photos/163036/mario-luigi-yoschi-figures-163036.jpeg?auto=compress&cs=tinysrgb&w=1260&h=750&dpr=2\" width=\"800\"/>\n",
        "\n",
        "\n",
        "\n",
        "# <font color=\"#87CEEB\"> **Congratulations,** </font> <font color=\"#FFBF00\"> **you have finished this Python Programming Notebook!!!** </font>"
      ],
      "metadata": {
        "id": "1xyZUMMTsE5l"
      }
    },
    {
      "cell_type": "markdown",
      "metadata": {
        "id": "297F-IZ3SbJX"
      },
      "source": [
        "<hr/>  \n",
        "\n",
        "# Credits\n",
        "This notebook was written by [Adam LaMee](http://www.adamlamee.com). For license and more information visit [CODINGinK12.org](http://www.codingink12.org).\n",
        "Edited by Naihomy Tirado."
      ]
    }
  ],
  "metadata": {
    "colab": {
      "provenance": [],
      "include_colab_link": true
    },
    "kernelspec": {
      "display_name": "Python 3",
      "language": "python",
      "name": "python3"
    },
    "language_info": {
      "codemirror_mode": {
        "name": "ipython",
        "version": 3
      },
      "file_extension": ".py",
      "mimetype": "text/x-python",
      "name": "python",
      "nbconvert_exporter": "python",
      "pygments_lexer": "ipython3",
      "version": "3.7.7"
    }
  },
  "nbformat": 4,
  "nbformat_minor": 0
}